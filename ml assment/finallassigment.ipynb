{
 "cells": [
  {
   "cell_type": "code",
   "execution_count": 1,
   "id": "1fef1b6c-53d7-4a8b-aff7-104f5e4d56b3",
   "metadata": {},
   "outputs": [
    {
     "name": "stdout",
     "output_type": "stream",
     "text": [
      "Requirement already satisfied: PyPDF2 in c:\\code files\\anaconda\\lib\\site-packages (3.0.1)\n",
      "Requirement already satisfied: pdfplumber in c:\\code files\\anaconda\\lib\\site-packages (0.11.5)\n",
      "Requirement already satisfied: pytesseract in c:\\code files\\anaconda\\lib\\site-packages (0.3.13)\n",
      "Requirement already satisfied: pillow in c:\\code files\\anaconda\\lib\\site-packages (10.2.0)\n",
      "Requirement already satisfied: pandas in c:\\code files\\anaconda\\lib\\site-packages (2.1.4)\n",
      "Requirement already satisfied: openpyxl in c:\\code files\\anaconda\\lib\\site-packages (3.0.10)\n",
      "Requirement already satisfied: pdfminer.six==20231228 in c:\\code files\\anaconda\\lib\\site-packages (from pdfplumber) (20231228)\n",
      "Requirement already satisfied: pypdfium2>=4.18.0 in c:\\code files\\anaconda\\lib\\site-packages (from pdfplumber) (4.30.1)\n",
      "Requirement already satisfied: charset-normalizer>=2.0.0 in c:\\code files\\anaconda\\lib\\site-packages (from pdfminer.six==20231228->pdfplumber) (2.0.4)\n",
      "Requirement already satisfied: cryptography>=36.0.0 in c:\\code files\\anaconda\\lib\\site-packages (from pdfminer.six==20231228->pdfplumber) (42.0.2)\n",
      "Requirement already satisfied: packaging>=21.3 in c:\\code files\\anaconda\\lib\\site-packages (from pytesseract) (23.1)\n",
      "Requirement already satisfied: numpy<2,>=1.23.2 in c:\\code files\\anaconda\\lib\\site-packages (from pandas) (1.26.4)\n",
      "Requirement already satisfied: python-dateutil>=2.8.2 in c:\\code files\\anaconda\\lib\\site-packages (from pandas) (2.8.2)\n",
      "Requirement already satisfied: pytz>=2020.1 in c:\\code files\\anaconda\\lib\\site-packages (from pandas) (2023.3.post1)\n",
      "Requirement already satisfied: tzdata>=2022.1 in c:\\code files\\anaconda\\lib\\site-packages (from pandas) (2023.3)\n",
      "Requirement already satisfied: et_xmlfile in c:\\code files\\anaconda\\lib\\site-packages (from openpyxl) (1.1.0)\n",
      "Requirement already satisfied: six>=1.5 in c:\\code files\\anaconda\\lib\\site-packages (from python-dateutil>=2.8.2->pandas) (1.16.0)\n",
      "Requirement already satisfied: cffi>=1.12 in c:\\code files\\anaconda\\lib\\site-packages (from cryptography>=36.0.0->pdfminer.six==20231228->pdfplumber) (1.16.0)\n",
      "Requirement already satisfied: pycparser in c:\\code files\\anaconda\\lib\\site-packages (from cffi>=1.12->cryptography>=36.0.0->pdfminer.six==20231228->pdfplumber) (2.21)\n",
      "Note: you may need to restart the kernel to use updated packages.\n"
     ]
    }
   ],
   "source": [
    "pip install PyPDF2 pdfplumber pytesseract pillow pandas openpyxl\n"
   ]
  },
  {
   "cell_type": "code",
   "execution_count": 2,
   "id": "053d5caa",
   "metadata": {},
   "outputs": [
    {
     "name": "stdout",
     "output_type": "stream",
     "text": [
      "Requirement already satisfied: pdf2image in c:\\code files\\anaconda\\lib\\site-packages (1.17.0)\n",
      "Requirement already satisfied: pillow in c:\\code files\\anaconda\\lib\\site-packages (from pdf2image) (10.2.0)\n",
      "Note: you may need to restart the kernel to use updated packages.\n"
     ]
    }
   ],
   "source": [
    "pip install pdf2image\n"
   ]
  },
  {
   "cell_type": "code",
   "execution_count": 3,
   "id": "cf6d6ca4-518c-41e4-8575-84b670e450a8",
   "metadata": {},
   "outputs": [],
   "source": [
    "import pdfplumber\n",
    "import pandas as pd\n",
    "import pytesseract\n",
    "from pdf2image import convert_from_path\n"
   ]
  },
  {
   "cell_type": "code",
   "execution_count": 4,
   "id": "383d8fc3",
   "metadata": {},
   "outputs": [],
   "source": [
    "def extract_tables_from_pdf(pdf_path, page_number):\n",
    "    tables_data = []\n",
    "    with pdfplumber.open(pdf_path) as pdf:\n",
    "        page = pdf.pages[page_number - 1]  \n",
    "        tables = page.extract_tables()\n",
    "        for table in tables:\n",
    "            df = pd.DataFrame(table)  # DataFrame\n",
    "            tables_data.append(df)\n",
    "    return tables_data"
   ]
  },
  {
   "cell_type": "code",
   "execution_count": 5,
   "id": "bd55dff7-1fbe-4a23-a1bd-460fac8a410e",
   "metadata": {},
   "outputs": [],
   "source": [
    "\n",
    "import pdfplumber\n",
    "import pandas as pd\n",
    "from pdf2image import convert_from_path\n",
    "import pytesseract\n",
    "\n",
    "# extract tabls frm PDF page\n",
    "def extract_tables_from_pdf(pdf_path, page_number):\n",
    "    \"\"\"Extract tabls  from a specifc PDF pg.\"\"\"\n",
    "    with pdfplumber.open(pdf_path) as pdf:\n",
    "        tables = pdf.pages[page_number - 1].extract_tables()\n",
    "    return [pd.DataFrame(table) for table in tables]\n",
    "\n"
   ]
  },
  {
   "cell_type": "code",
   "execution_count": 6,
   "id": "75077c63",
   "metadata": {},
   "outputs": [],
   "source": [
    "\n",
    "# Function to perform OCR on a given PDF page\n",
    "def perform_ocr_on_page(pdf_path, page_number):\n",
    "    \"\"\"Perform OCR on a specific PDF pg and return extracted text.\"\"\"\n",
    "    images = convert_from_path(pdf_path, first_page=page_number, last_page=page_number)\n",
    "    return \"\\n\".join([pytesseract.image_to_string(image) for image in images])\n",
    "\n",
    "# Dictionary containing PDF filenames and their  page numbers \n",
    "pdf_files = {\n",
    "    \"cardio_structured.pdf\": 6,\n",
    "    \"prot_sap_102.pdf\": 50,\n",
    "    \"prot_sap_1.pdf\": 14\n",
    "}\n",
    "\n",
    "# "
   ]
  },
  {
   "cell_type": "code",
   "execution_count": 7,
   "id": "c7409c75",
   "metadata": {},
   "outputs": [],
   "source": [
    "# output Excel file\n",
    "output_file = \"extracted_tables.xlsx\"\n",
    "writer = pd.ExcelWriter(output_file, engine='openpyxl')"
   ]
  },
  {
   "cell_type": "code",
   "execution_count": 8,
   "id": "4e6cdc96",
   "metadata": {},
   "outputs": [
    {
     "name": "stdout",
     "output_type": "stream",
     "text": [
      "Processing cardio_structured.pdf - Page 6...\n"
     ]
    },
    {
     "name": "stderr",
     "output_type": "stream",
     "text": [
      "c:\\code files\\anaconda\\Lib\\site-packages\\openpyxl\\workbook\\child.py:99: UserWarning: Title is more than 31 characters. Some applications may not be able to read the file\n",
      "  warnings.warn(\"Title is more than 31 characters. Some applications may not be able to read the file\")\n"
     ]
    },
    {
     "name": "stdout",
     "output_type": "stream",
     "text": [
      "Processing prot_sap_102.pdf - Page 50...\n",
      "Processing prot_sap_1.pdf - Page 14...\n"
     ]
    }
   ],
   "source": [
    "#Iterateing\n",
    "for pdf_name, page_number in pdf_files.items():\n",
    "    print(f\"Processing {pdf_name} - Page {page_number}...\")\n",
    "    pdf_path = f\"./{pdf_name}\"\n",
    "    \n",
    "    tables = extract_tables_from_pdf(pdf_path, page_number)\n",
    "    \n",
    "    if tables:  # If  found, save them to the Excel file\n",
    "        for i, table in enumerate(tables):\n",
    "            table.to_excel(writer, sheet_name=f\"{pdf_name}_Page{page_number}_Table{i+1}\", index=False)\n",
    "    else:  # If no tables are found, perform OCR and save extracted text\n",
    "        extracted_text = perform_ocr_on_page(pdf_path, page_number)\n",
    "        pd.DataFrame([extracted_text.split(\"\\n\")]).to_excel(writer, sheet_name=f\"{pdf_name}_Page{page_number}_OCR\", index=False)"
   ]
  },
  {
   "cell_type": "code",
   "execution_count": 9,
   "id": "40e6a194",
   "metadata": {},
   "outputs": [
    {
     "name": "stdout",
     "output_type": "stream",
     "text": [
      "Extraction complete. Saved to extracted_tables.xlsx.\n"
     ]
    }
   ],
   "source": [
    "# Save and close the Excel writer\n",
    "writer.close()\n",
    "print(f\"Extraction complete. Saved to {output_file}.\")\n"
   ]
  }
 ],
 "metadata": {
  "kernelspec": {
   "display_name": "base",
   "language": "python",
   "name": "python3"
  },
  "language_info": {
   "codemirror_mode": {
    "name": "ipython",
    "version": 3
   },
   "file_extension": ".py",
   "mimetype": "text/x-python",
   "name": "python",
   "nbconvert_exporter": "python",
   "pygments_lexer": "ipython3",
   "version": "3.11.7"
  }
 },
 "nbformat": 4,
 "nbformat_minor": 5
}
